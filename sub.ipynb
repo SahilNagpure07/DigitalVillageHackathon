{
 "cells": [
  {
   "cell_type": "code",
   "execution_count": 107,
   "metadata": {},
   "outputs": [],
   "source": [
    "import tensorflow as tf\n",
    "from tensorflow.keras import layers, models\n",
    "# import matplotlib.pyplot as plt\n",
    "import numpy as np\n",
    "from keras.preprocessing.image import ImageDataGenerator\n",
    "from sklearn.metrics import confusion_matrix, accuracy_score, classification_report"
   ]
  },
  {
   "cell_type": "code",
   "execution_count": 108,
   "metadata": {},
   "outputs": [],
   "source": [
    "train = ImageDataGenerator(rescale=1./255, zoom_range=0.2, shear_range=0.2, horizontal_flip=True)\n",
    "valid = ImageDataGenerator(rescale=1./255, zoom_range=0.2, shear_range=0.2, horizontal_flip=True)\n",
    "test = ImageDataGenerator(rescale=1./255)"
   ]
  },
  {
   "cell_type": "code",
   "execution_count": 109,
   "metadata": {},
   "outputs": [
    {
     "name": "stdout",
     "output_type": "stream",
     "text": [
      "Found 5599 images belonging to 7 classes.\n",
      "Found 461 images belonging to 7 classes.\n",
      "Found 421 images belonging to 7 classes.\n"
     ]
    }
   ],
   "source": [
    "train_data = train.flow_from_directory('C:/Users/Sahil Nagpure/Projects/Deep Learning/Dataset_PS1-20220319T061858Z-002/Dataset_PS1', batch_size=32, class_mode='categorical',shuffle=True, target_size=(96,96))\n",
    "valid_data = valid.flow_from_directory('C:/Users/Sahil Nagpure/Projects/Deep Learning/Dataset_PS1-20220319T061858Z-001/Dataset_PS1', batch_size=32, class_mode='categorical',shuffle=False, target_size=(96,96))\n",
    "test_data = test.flow_from_directory('C:/Users/Sahil Nagpure/Projects/Deep Learning/Dataset_PS1-20220319T061858Z-004/Dataset_PS1', batch_size=32, class_mode='categorical',shuffle=True, target_size=(96,96))"
   ]
  },
  {
   "cell_type": "code",
   "execution_count": 110,
   "metadata": {},
   "outputs": [],
   "source": [
    "cnn = models.Sequential([\n",
    "                        # cnn\n",
    "                        layers.Conv2D(filters=16, kernel_size = (3,3), activation='relu', input_shape=(96,96,3)),\n",
    "                        layers.MaxPooling2D((2,2)),\n",
    "                        layers.Dropout(0.5),\n",
    "\n",
    "                        layers.Conv2D(filters=32, kernel_size=(3,3), activation='relu'),\n",
    "                        layers.MaxPooling2D((2,2)),\n",
    "                        layers.Dropout(0.5),\n",
    "                        # dense\n",
    "                        layers.Flatten(),\n",
    "                        layers.Dense(80, activation='relu'),\n",
    "                        layers.Dropout(0.5),\n",
    "                        layers.Dense(40, activation='relu'),\n",
    "                        layers.Dense(7, activation='softmax')\n",
    "])"
   ]
  },
  {
   "cell_type": "code",
   "execution_count": 111,
   "metadata": {},
   "outputs": [
    {
     "name": "stdout",
     "output_type": "stream",
     "text": [
      "Model: \"sequential_9\"\n",
      "_________________________________________________________________\n",
      " Layer (type)                Output Shape              Param #   \n",
      "=================================================================\n",
      " conv2d_22 (Conv2D)          (None, 94, 94, 16)        448       \n",
      "                                                                 \n",
      " max_pooling2d_22 (MaxPoolin  (None, 47, 47, 16)       0         \n",
      " g2D)                                                            \n",
      "                                                                 \n",
      " dropout_9 (Dropout)         (None, 47, 47, 16)        0         \n",
      "                                                                 \n",
      " conv2d_23 (Conv2D)          (None, 45, 45, 32)        4640      \n",
      "                                                                 \n",
      " max_pooling2d_23 (MaxPoolin  (None, 22, 22, 32)       0         \n",
      " g2D)                                                            \n",
      "                                                                 \n",
      " dropout_10 (Dropout)        (None, 22, 22, 32)        0         \n",
      "                                                                 \n",
      " flatten_9 (Flatten)         (None, 15488)             0         \n",
      "                                                                 \n",
      " dense_19 (Dense)            (None, 80)                1239120   \n",
      "                                                                 \n",
      " dropout_11 (Dropout)        (None, 80)                0         \n",
      "                                                                 \n",
      " dense_20 (Dense)            (None, 40)                3240      \n",
      "                                                                 \n",
      " dense_21 (Dense)            (None, 7)                 287       \n",
      "                                                                 \n",
      "=================================================================\n",
      "Total params: 1,247,735\n",
      "Trainable params: 1,247,735\n",
      "Non-trainable params: 0\n",
      "_________________________________________________________________\n"
     ]
    }
   ],
   "source": [
    "cnn.summary()"
   ]
  },
  {
   "cell_type": "code",
   "execution_count": 112,
   "metadata": {},
   "outputs": [],
   "source": [
    "cnn.compile(optimizer='adam', loss='categorical_crossentropy', metrics=['accuracy'])"
   ]
  },
  {
   "cell_type": "code",
   "execution_count": 113,
   "metadata": {},
   "outputs": [
    {
     "name": "stdout",
     "output_type": "stream",
     "text": [
      "Epoch 1/15\n",
      "175/175 [==============================] - 162s 924ms/step - loss: 1.6284 - accuracy: 0.3090 - val_loss: 1.6127 - val_accuracy: 0.3124\n",
      "Epoch 2/15\n",
      "175/175 [==============================] - 159s 911ms/step - loss: 1.3087 - accuracy: 0.4306 - val_loss: 1.4259 - val_accuracy: 0.2430\n",
      "Epoch 3/15\n",
      "175/175 [==============================] - 140s 803ms/step - loss: 1.2289 - accuracy: 0.4683 - val_loss: 1.3694 - val_accuracy: 0.2560\n",
      "Epoch 4/15\n",
      "175/175 [==============================] - 139s 796ms/step - loss: 1.1525 - accuracy: 0.5267 - val_loss: 1.7730 - val_accuracy: 0.2690\n",
      "Epoch 5/15\n",
      "175/175 [==============================] - 140s 799ms/step - loss: 1.0956 - accuracy: 0.5437 - val_loss: 1.2972 - val_accuracy: 0.3297\n",
      "Epoch 6/15\n",
      "175/175 [==============================] - 139s 793ms/step - loss: 1.0410 - accuracy: 0.5712 - val_loss: 1.3902 - val_accuracy: 0.3384\n",
      "Epoch 7/15\n",
      "175/175 [==============================] - 140s 804ms/step - loss: 0.9941 - accuracy: 0.5980 - val_loss: 1.3188 - val_accuracy: 0.3514\n",
      "Epoch 8/15\n",
      "175/175 [==============================] - 139s 795ms/step - loss: 0.9710 - accuracy: 0.6008 - val_loss: 1.2741 - val_accuracy: 0.3731\n",
      "Epoch 9/15\n",
      "175/175 [==============================] - 138s 790ms/step - loss: 0.9518 - accuracy: 0.6199 - val_loss: 1.3251 - val_accuracy: 0.3579\n",
      "Epoch 10/15\n",
      "175/175 [==============================] - 138s 789ms/step - loss: 0.9307 - accuracy: 0.6248 - val_loss: 1.2721 - val_accuracy: 0.4078\n",
      "Epoch 11/15\n",
      "175/175 [==============================] - 138s 789ms/step - loss: 0.8999 - accuracy: 0.6374 - val_loss: 1.4387 - val_accuracy: 0.3688\n",
      "Epoch 12/15\n",
      "175/175 [==============================] - 139s 796ms/step - loss: 0.8567 - accuracy: 0.6644 - val_loss: 1.3559 - val_accuracy: 0.4252\n",
      "Epoch 13/15\n",
      "175/175 [==============================] - 135s 772ms/step - loss: 0.8574 - accuracy: 0.6599 - val_loss: 1.3579 - val_accuracy: 0.3839\n",
      "Epoch 14/15\n",
      "175/175 [==============================] - 135s 773ms/step - loss: 0.8252 - accuracy: 0.6842 - val_loss: 1.3060 - val_accuracy: 0.3905\n",
      "Epoch 15/15\n",
      "175/175 [==============================] - 138s 786ms/step - loss: 0.8182 - accuracy: 0.6869 - val_loss: 1.3298 - val_accuracy: 0.3948\n"
     ]
    }
   ],
   "source": [
    "model1 = cnn.fit(train_data,epochs=15, validation_batch_size=32, validation_data=valid_data)"
   ]
  },
  {
   "cell_type": "code",
   "execution_count": 114,
   "metadata": {},
   "outputs": [],
   "source": [
    "cnn.save('model_1.h5',model1)"
   ]
  },
  {
   "cell_type": "code",
   "execution_count": 115,
   "metadata": {},
   "outputs": [],
   "source": [
    "pred = cnn.predict(test_data)"
   ]
  },
  {
   "cell_type": "code",
   "execution_count": 116,
   "metadata": {},
   "outputs": [],
   "source": [
    "predClasses = [np.argmax(element) for element in pred]"
   ]
  },
  {
   "cell_type": "code",
   "execution_count": 117,
   "metadata": {},
   "outputs": [
    {
     "data": {
      "text/plain": [
       "[1, 6, 1, 6, 1, 6, 6, 6, 3, 6]"
      ]
     },
     "execution_count": 117,
     "metadata": {},
     "output_type": "execute_result"
    }
   ],
   "source": [
    "predClasses[:10]"
   ]
  },
  {
   "cell_type": "code",
   "execution_count": 118,
   "metadata": {},
   "outputs": [],
   "source": [
    "Classes = ['Bacterial Blight','Blast','Brown spot','Healthy','Hispa','Leaf Blast','Tungro']"
   ]
  }
 ],
 "metadata": {
  "interpreter": {
   "hash": "0abffcdfdb9a27398513271db4483066f4b41546c26ad458c8472620d6f5814b"
  },
  "kernelspec": {
   "display_name": "Python 3.9.0 64-bit",
   "language": "python",
   "name": "python3"
  },
  "language_info": {
   "codemirror_mode": {
    "name": "ipython",
    "version": 3
   },
   "file_extension": ".py",
   "mimetype": "text/x-python",
   "name": "python",
   "nbconvert_exporter": "python",
   "pygments_lexer": "ipython3",
   "version": "3.9.0"
  },
  "orig_nbformat": 4
 },
 "nbformat": 4,
 "nbformat_minor": 2
}
